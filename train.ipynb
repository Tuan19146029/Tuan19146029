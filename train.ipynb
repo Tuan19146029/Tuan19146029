{
  "nbformat": 4,
  "nbformat_minor": 0,
  "metadata": {
    "colab": {
      "name": "train.ipynb",
      "provenance": [],
      "collapsed_sections": [],
      "mount_file_id": "185Nwaum0ma9RtbvajKnmGT1yzRYN7chZ",
      "authorship_tag": "ABX9TyPqhh4rbEL/Iq4mx2qelzed",
      "include_colab_link": true
    },
    "kernelspec": {
      "name": "python3",
      "display_name": "Python 3"
    },
    "language_info": {
      "name": "python"
    },
    "accelerator": "GPU",
    "gpuClass": "standard"
  },
  "cells": [
    {
      "cell_type": "markdown",
      "metadata": {
        "id": "view-in-github",
        "colab_type": "text"
      },
      "source": [
        "<a href=\"https://colab.research.google.com/github/Tuan19146029/Tuan19146029/blob/main/train.ipynb\" target=\"_parent\"><img src=\"https://colab.research.google.com/assets/colab-badge.svg\" alt=\"Open In Colab\"/></a>"
      ]
    },
    {
      "cell_type": "code",
      "execution_count": 1,
      "metadata": {
        "colab": {
          "base_uri": "https://localhost:8080/"
        },
        "id": "ZByLi1BoGNBn",
        "outputId": "42393cab-c74c-4418-f054-de2c8292d56e"
      },
      "outputs": [
        {
          "output_type": "stream",
          "name": "stdout",
          "text": [
            "Found 1810 images belonging to 9 classes.\n",
            "Found 18837 images belonging to 9 classes.\n",
            "<keras.preprocessing.image.DirectoryIterator object at 0x7effdf5ef090>\n"
          ]
        }
      ],
      "source": [
        "import numpy as np\n",
        "import cv2\n",
        "\n",
        "from keras.models import Sequential\n",
        "from keras.layers import Dense, Dropout, Flatten\n",
        "from keras.layers import Conv2D\n",
        "from tensorflow.keras.optimizers import Adam\n",
        "from keras.layers import MaxPooling2D\n",
        "from keras.preprocessing.image import ImageDataGenerator\n",
        "\n",
        "\n",
        "train_data = '/content/drive/MyDrive/train'\n",
        "val_data = '/content/drive/MyDrive/test'\n",
        "train_datagen = ImageDataGenerator(rescale=1./255)\n",
        "val_datagen = ImageDataGenerator(rescale=1./255)\n",
        "train_generator = train_datagen.flow_from_directory(\n",
        "        train_data,\n",
        "        target_size=(48,48),\n",
        "        batch_size=64,\n",
        "        color_mode=\"grayscale\",\n",
        "        class_mode='categorical')\n",
        "validation_generator = val_datagen.flow_from_directory(\n",
        "        val_data,\n",
        "        target_size=(48,48),\n",
        "        batch_size=64,\n",
        "        color_mode=\"grayscale\",\n",
        "        class_mode='categorical')\n",
        "print(validation_generator)\n"
      ]
    },
    {
      "cell_type": "code",
      "source": [
        "emotion_model = Sequential()\n",
        "emotion_model.add(Conv2D(32, kernel_size=(3, 3), activation='relu', input_shape=(48,48,1)))\n",
        "emotion_model.add(Conv2D(64, kernel_size=(3, 3), activation='relu'))\n",
        "emotion_model.add(MaxPooling2D(pool_size=(2, 2)))\n",
        "emotion_model.add(Dropout(0.25))\n",
        "emotion_model.add(Conv2D(128, kernel_size=(3, 3), activation='relu'))\n",
        "emotion_model.add(MaxPooling2D(pool_size=(2, 2)))\n",
        "emotion_model.add(Conv2D(128, kernel_size=(3, 3), activation='relu'))\n",
        "emotion_model.add(MaxPooling2D(pool_size=(2, 2)))\n",
        "emotion_model.add(Dropout(0.25))\n",
        "emotion_model.add(Flatten())\n",
        "emotion_model.add(Dense(1024, activation='relu'))\n",
        "emotion_model.add(Dropout(0.5))\n",
        "emotion_model.add(Dense(9, activation='softmax'))\n",
        "\n",
        "emotion_model.compile(loss='categorical_crossentropy',optimizer=Adam(learning_rate=0.0001, decay=1e-6),metrics=['accuracy'])\n",
        "emotion_model_i = emotion_model.fit(\n",
        "        train_generator,\n",
        "        steps_per_epoch=72397 // 5655,\n",
        "        epochs=5,\n",
        "        validation_data=validation_generator,\n",
        "        validation_steps=18827 // 5655)\n",
        "emotion_model.save(\"model_emotion.h5\")"
      ],
      "metadata": {
        "colab": {
          "base_uri": "https://localhost:8080/"
        },
        "id": "1F3f4_KTPTNo",
        "outputId": "a5ecbd57-7f72-430c-8f68-93f2d865baeb"
      },
      "execution_count": 2,
      "outputs": [
        {
          "output_type": "stream",
          "name": "stdout",
          "text": [
            "Epoch 1/5\n",
            "12/12 [==============================] - 104s 9s/step - loss: 1.1292 - accuracy: 0.9023 - val_loss: 3.2390 - val_accuracy: 0.0521\n",
            "Epoch 2/5\n",
            "12/12 [==============================] - 99s 9s/step - loss: 0.0128 - accuracy: 1.0000 - val_loss: 9.0085 - val_accuracy: 0.0729\n",
            "Epoch 3/5\n",
            "12/12 [==============================] - 101s 9s/step - loss: 0.0021 - accuracy: 1.0000 - val_loss: 12.9976 - val_accuracy: 0.0365\n",
            "Epoch 4/5\n",
            "12/12 [==============================] - 101s 9s/step - loss: 4.4158e-05 - accuracy: 1.0000 - val_loss: 14.4631 - val_accuracy: 0.0521\n",
            "Epoch 5/5\n",
            "12/12 [==============================] - 98s 9s/step - loss: 0.0014 - accuracy: 1.0000 - val_loss: 15.1982 - val_accuracy: 0.0312\n"
          ]
        }
      ]
    },
    {
      "cell_type": "code",
      "source": [
        ""
      ],
      "metadata": {
        "id": "k-t8gVCW9OBh"
      },
      "execution_count": null,
      "outputs": []
    }
  ]
}