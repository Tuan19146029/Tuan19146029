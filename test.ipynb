{
  "nbformat": 4,
  "nbformat_minor": 0,
  "metadata": {
    "colab": {
      "name": "test.ipynb",
      "provenance": [],
      "authorship_tag": "ABX9TyO0bpii1Rmcz1XhAffHk+Bn",
      "include_colab_link": true
    },
    "kernelspec": {
      "name": "python3",
      "display_name": "Python 3"
    },
    "language_info": {
      "name": "python"
    }
  },
  "cells": [
    {
      "cell_type": "markdown",
      "metadata": {
        "id": "view-in-github",
        "colab_type": "text"
      },
      "source": [
        "<a href=\"https://colab.research.google.com/github/Tuan19146029/Tuan19146029/blob/main/test.ipynb\" target=\"_parent\"><img src=\"https://colab.research.google.com/assets/colab-badge.svg\" alt=\"Open In Colab\"/></a>"
      ]
    },
    {
      "cell_type": "code",
      "execution_count": null,
      "metadata": {
        "id": "Ghqi5cmNuEM-"
      },
      "outputs": [],
      "source": [
        "import tkinter as tk\n",
        "from tkinter import *\n",
        "import cv2\n",
        "from PIL import Image, ImageTk\n",
        "import os\n",
        "import numpy as np\n",
        "import cv2\n",
        "from tensorflow import keras\n",
        "from keras.models import Sequential\n",
        "from keras.layers import Dense, Dropout, Flatten\n",
        "from keras.layers import Conv2D\n",
        "from keras.optimizers import Adam\n",
        "from keras.layers import MaxPooling2D\n",
        "from keras.preprocessing.image import ImageDataGenerator\n",
        "\n",
        "emotion_model = Sequential()\n",
        "emotion_model.add(Conv2D(32, kernel_size=(3, 3), activation='relu', input_shape=(48, 48, 1)))\n",
        "emotion_model.add(Conv2D(64, kernel_size=(3, 3), activation='relu'))\n",
        "emotion_model.add(MaxPooling2D(pool_size=(2, 2)))\n",
        "emotion_model.add(Dropout(0.25))\n",
        "emotion_model.add(Conv2D(128, kernel_size=(3, 3), activation='relu'))\n",
        "emotion_model.add(MaxPooling2D(pool_size=(2, 2)))\n",
        "emotion_model.add(Conv2D(128, kernel_size=(3, 3), activation='relu'))\n",
        "emotion_model.add(MaxPooling2D(pool_size=(2, 2)))\n",
        "emotion_model.add(Dropout(0.25))\n",
        "emotion_model.add(Flatten())\n",
        "emotion_model.add(Dense(1024, activation='relu'))\n",
        "emotion_model.add(Dropout(0.5))\n",
        "emotion_model.add(Dense(7, activation='softmax'))\n",
        "emotion_model.load_weights('model_emotion.h5')\n",
        "\n",
        "gender_model = Sequential()\n",
        "gender_model.add(Conv2D(32, kernel_size=(3, 3), activation='relu', input_shape=(48,48,1)))\n",
        "gender_model.add(Conv2D(64, kernel_size=(3, 3), activation='relu'))\n",
        "gender_model.add(MaxPooling2D(pool_size=(2, 2)))\n",
        "gender_model.add(Dropout(0.25))\n",
        "gender_model.add(Conv2D(128, kernel_size=(3, 3), activation='relu'))\n",
        "gender_model.add(MaxPooling2D(pool_size=(2, 2)))\n",
        "gender_model.add(Conv2D(128, kernel_size=(3, 3), activation='relu'))\n",
        "gender_model.add(MaxPooling2D(pool_size=(2, 2)))\n",
        "gender_model.add(Dropout(0.25))\n",
        "gender_model.add(Flatten())\n",
        "gender_model.add(Dense(1024, activation='relu'))\n",
        "gender_model.add(Dropout(0.5))\n",
        "gender_model.add(Dense(2, activation='softmax'))\n",
        "gender_model.load_weights('model_gender.h5')\n",
        "\n",
        "cv2.ocl.setUseOpenCL(False)\n",
        "emotion_dict = {0: \"  Angry  \", 1: \"Disgusted\", 2: \" Fearful \", 3: \"  Happy  \", 4: \"  Neutral  \",\n",
        "                5: \"   Sad   \", 6: \"Surprised\"}\n",
        "cv2.ocl.setUseOpenCL(False)               \n",
        "gender_dict = {0: \" Female  \", 1: \"  Male   \"}\n",
        "cap = cv2.VideoCapture(0,cv2.CAP_DSHOW)\n",
        "while True:\n",
        "    ret, frame = cap.read()\n",
        "    if not ret:\n",
        "        break\n",
        "    bounding_box = cv2.CascadeClassifier('haarcascade_frontalface_default.xml')\n",
        "    gray_frame = cv2.cvtColor(frame, cv2.COLOR_BGR2GRAY)\n",
        "    num_faces = bounding_box.detectMultiScale(gray_frame,scaleFactor=1.3, minNeighbors=5)\n",
        "    for (x, y, w, h) in num_faces:\n",
        "        cv2.rectangle(frame, (x, y-50), (x+w, y+h+10), (255, 0, 0), 2)\n",
        "        roi_gray_frame = gray_frame[y:y + h, x:x + w]\n",
        "        cropped_img = np.expand_dims(np.expand_dims(cv2.resize(roi_gray_frame, (48, 48)), -1), 0)\n",
        "        emotion_prediction = emotion_model.predict(cropped_img)\n",
        "        gender_prediction = gender_model.predict(cropped_img)\n",
        "        maxindex = int(np.argmax(emotion_prediction))\n",
        "        minindex = int(np.argmax(gender_prediction))\n",
        "        cv2.putText(frame, emotion_dict[maxindex], (x+20, y+240), cv2.FONT_HERSHEY_SIMPLEX, 1, (255, 255, 255), 2, cv2.LINE_AA)\n",
        "        cv2.putText(frame, gender_dict[minindex], (x+20, y+210), cv2.FONT_HERSHEY_SIMPLEX, 1, (255, 255, 255), 2, cv2.LINE_AA)\n",
        "    cv2.imshow('Video', cv2.resize(frame,(800,600),interpolation = cv2.INTER_CUBIC))\n",
        "    if cv2.waitKey(1) & 0xFF == ord('x'):\n",
        "        exit(0)\n",
        "cap.release()\n",
        "cv2.destroyAllWindows()\n"
      ]
    }
  ]
}